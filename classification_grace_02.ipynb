{
 "cells": [
  {
   "cell_type": "code",
   "execution_count": 69,
   "metadata": {},
   "outputs": [],
   "source": [
    "import pandas as pd\n",
    "import numpy as np\n",
    "import copy\n",
    "\n",
    "from sklearn.metrics import homogeneity_score,completeness_score,classification_report,confusion_matrix,mean_squared_error\n",
    "from sklearn.neighbors import KNeighborsClassifier\n",
    "from sklearn.preprocessing import StandardScaler,LabelEncoder\n",
    "from sklearn.tree import DecisionTreeClassifier\n",
    "from sklearn.model_selection import train_test_split\n",
    "from sklearn.linear_model import LogisticRegression\n",
    "\n",
    "\n",
    "pd.set_option('display.max_rows', 1300)\n",
    "pd.set_option('display.max_columns', 1300)\n",
    "pd.set_option('display.width', 1300)"
   ]
  },
  {
   "cell_type": "code",
   "execution_count": 37,
   "metadata": {},
   "outputs": [],
   "source": [
    "# prepare data\n",
    "\n",
    "# loop thr\n",
    "trainData = pd.read_csv('CS98XClassificationTrain.csv')\n",
    "trainData = pd.DataFrame(trainData)\n",
    "\n",
    "\n",
    "testData = pd.read_csv('CS98XClassificationTest.csv')\n",
    "testData = pd.DataFrame(testData)\n",
    "\n",
    "#print(wholeList)"
   ]
  },
  {
   "cell_type": "code",
   "execution_count": 55,
   "metadata": {},
   "outputs": [
    {
     "name": "stdout",
     "output_type": "stream",
     "text": [
      "train: ['Id' 'title' 'artist' 'year' 'bpm' 'nrgy' 'dnce' 'dB' 'live' 'val' 'dur'\n",
      " 'acous' 'spch' 'pop' 'top genre']\n",
      "test: ['Id' 'title' 'artist' 'year' 'bpm' 'nrgy' 'dnce' 'dB' 'live' 'val' 'dur'\n",
      " 'acous' 'spch' 'pop']\n"
     ]
    },
    {
     "data": {
      "text/plain": [
       "top genre\n",
       "adult standards            68\n",
       "album rock                 66\n",
       "dance pop                  61\n",
       "glam rock                  16\n",
       "brill building pop         16\n",
       "europop                    14\n",
       "dance rock                 13\n",
       "boy band                   10\n",
       "british invasion            8\n",
       "bubblegum dance             7\n",
       "art rock                    7\n",
       "disco                       7\n",
       "eurodance                   6\n",
       "deep adult standards        6\n",
       "atl hip hop                 6\n",
       "barbadian pop               6\n",
       "pop                         5\n",
       "british soul                5\n",
       "soft rock                   5\n",
       "classic soul                5\n",
       "doo-wop                     4\n",
       "classic uk pop              4\n",
       "east coast hip hop          4\n",
       "g funk                      3\n",
       "new wave pop                3\n",
       "disco house                 3\n",
       "canadian pop                2\n",
       "glam metal                  2\n",
       "detroit hip hop             2\n",
       "celtic rock                 2\n",
       "chanson                     2\n",
       "chicago rap                 2\n",
       "country rock                2\n",
       "classic rock                2\n",
       "chicago soul                2\n",
       "big room                    2\n",
       "bebop                       2\n",
       "british folk                2\n",
       "hip hop                     2\n",
       "alternative metal           2\n",
       "art pop                     2\n",
       "permanent wave              2\n",
       "blues rock                  2\n",
       "bronx hip hop               2\n",
       "belgian pop                 2\n",
       "merseybeat                  2\n",
       "uk garage                   1\n",
       "rock-and-roll               1\n",
       "r&b                         1\n",
       "neo mellow                  1\n",
       "glam punk                   1\n",
       "mellow gold                 1\n",
       "german alternative rock     1\n",
       "louisiana blues             1\n",
       "latin                       1\n",
       "italian pop                 1\n",
       "hip pop                     1\n",
       "german dance                1\n",
       "hi-nrg                      1\n",
       "acoustic blues              1\n",
       "drone folk                  1\n",
       "deep house                  1\n",
       "afrobeat                    1\n",
       "afropop                     1\n",
       "alternative rock            1\n",
       "american folk revival       1\n",
       "australian rock             1\n",
       "australian talent show      1\n",
       "avant-garde jazz            1\n",
       "baroque pop                 1\n",
       "belgian dance               1\n",
       "blues                       1\n",
       "boogaloo                    1\n",
       "bow pop                     1\n",
       "brit funk                   1\n",
       "british blues               1\n",
       "british comedy              1\n",
       "british dance band          1\n",
       "britpop                     1\n",
       "bubble trance               1\n",
       "bubblegum pop               1\n",
       "canadian folk               1\n",
       "classic danish pop          1\n",
       "classic girl group          1\n",
       "country                     1\n",
       "yodeling                    1\n",
       "dtype: int64"
      ]
     },
     "execution_count": 55,
     "metadata": {},
     "output_type": "execute_result"
    }
   ],
   "source": [
    "# filter out the NaN rows \n",
    "# 1) deep copy the list of each decade\n",
    "# 2) run drop if empty found\n",
    "# 3) \n",
    "if (trainData.columns[trainData.isnull().any()].isnull()) > 0:\n",
    "    trainDataClean = trainData.drop(trainData[trainData['top genre'].isnull()].index)\n",
    "testDataClean = testData.copy()\n",
    "\n",
    "print('train:',trainDataClean.columns.values)\n",
    "print('test:',testDataClean.columns.values)\n",
    "\n",
    "trainDataClean.groupby('top genre').size().sort_values(ascending=False)"
   ]
  },
  {
   "cell_type": "code",
   "execution_count": 36,
   "metadata": {},
   "outputs": [
    {
     "name": "stdout",
     "output_type": "stream",
     "text": [
      "no of type: 86\n"
     ]
    }
   ],
   "source": [
    "\n",
    "print(\"no of type:\",trainDataClean.groupby('top genre').size().count())"
   ]
  },
  {
   "cell_type": "code",
   "execution_count": 67,
   "metadata": {},
   "outputs": [],
   "source": [
    "# number only list - remove title, artist\n",
    "\n",
    "y = trainDataClean[\"top genre\"]\n",
    "x = trainDataClean.drop(columns=[\"top genre\",\"Id\",\"artist\",\"title\",\"year\"])\n",
    "\n",
    "stdScaler = StandardScaler()\n",
    "xScaled = stdScaler.fit_transform(x)\n",
    "\n",
    "# Encode y\n",
    "encoder = LabelEncoder()\n",
    "encoder.fit(y)\n",
    "yEncoded = encoder.transform(y)\n"
   ]
  },
  {
   "cell_type": "code",
   "execution_count": 73,
   "metadata": {},
   "outputs": [
    {
     "data": {
      "text/plain": [
       "11.394268616215564"
      ]
     },
     "execution_count": 73,
     "metadata": {},
     "output_type": "execute_result"
    }
   ],
   "source": [
    "from sklearn.tree import DecisionTreeRegressor\n",
    "bXtrain, bXtest, bytrain, bytest = train_test_split(xScaled, yEncoded, test_size=0.3, random_state=28)\n",
    "tree_reg = DecisionTreeRegressor(min_samples_leaf=3) # explore min_samples = e.g. put to 1 to see what happens\n",
    "tree_reg.fit(bXtrain,bytrain)\n",
    "boston_tree_train_preds = tree_reg.predict(bXtrain) # Check fit\n",
    "lin_mse = mean_squared_error(bytrain, boston_tree_train_preds)\n",
    "lin_rmse = np.sqrt(lin_mse)\n",
    "lin_rmse"
   ]
  },
  {
   "cell_type": "code",
   "execution_count": null,
   "metadata": {},
   "outputs": [],
   "source": []
  }
 ],
 "metadata": {
  "kernelspec": {
   "display_name": "Python 3.10.6 64-bit",
   "language": "python",
   "name": "python3"
  },
  "language_info": {
   "codemirror_mode": {
    "name": "ipython",
    "version": 3
   },
   "file_extension": ".py",
   "mimetype": "text/x-python",
   "name": "python",
   "nbconvert_exporter": "python",
   "pygments_lexer": "ipython3",
   "version": "3.10.6"
  },
  "orig_nbformat": 4,
  "vscode": {
   "interpreter": {
    "hash": "aee8b7b246df8f9039afb4144a1f6fd8d2ca17a180786b69acc140d282b71a49"
   }
  }
 },
 "nbformat": 4,
 "nbformat_minor": 2
}
