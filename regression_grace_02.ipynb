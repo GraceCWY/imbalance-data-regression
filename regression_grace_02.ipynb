{
 "cells": [
  {
   "cell_type": "code",
   "execution_count": 9,
   "metadata": {},
   "outputs": [],
   "source": [
    "import pandas as pd\n",
    "import numpy as np\n",
    "import copy\n",
    "\n",
    "from sklearn.metrics import homogeneity_score,completeness_score,classification_report,confusion_matrix,mean_squared_error\n",
    "from sklearn.neighbors import KNeighborsClassifier\n",
    "from sklearn.preprocessing import StandardScaler,LabelEncoder\n",
    "from sklearn.tree import DecisionTreeClassifier\n",
    "from sklearn.model_selection import train_test_split\n",
    "from sklearn.linear_model import LogisticRegression\n",
    "\n",
    "\n",
    "pd.set_option('display.max_rows', 1300)\n",
    "pd.set_option('display.max_columns', 1300)\n",
    "pd.set_option('display.width', 1300)"
   ]
  },
  {
   "cell_type": "code",
   "execution_count": 20,
   "metadata": {},
   "outputs": [],
   "source": [
    "# prepare data\n",
    "\n",
    "# loop thr\n",
    "trainData = pd.read_csv('CS98XClassificationTrain.csv')\n",
    "trainData = pd.DataFrame(trainData)\n",
    "\n",
    "\n",
    "testData = pd.read_csv('CS98XClassificationTest.csv')\n",
    "testData = pd.DataFrame(testData)\n",
    "\n",
    "#print(wholeList)"
   ]
  },
  {
   "cell_type": "code",
   "execution_count": 21,
   "metadata": {},
   "outputs": [
    {
     "name": "stdout",
     "output_type": "stream",
     "text": [
      "train date shape (453, 15)\n",
      "test date shape (113, 14)\n"
     ]
    },
    {
     "data": {
      "text/html": [
       "<div>\n",
       "<style scoped>\n",
       "    .dataframe tbody tr th:only-of-type {\n",
       "        vertical-align: middle;\n",
       "    }\n",
       "\n",
       "    .dataframe tbody tr th {\n",
       "        vertical-align: top;\n",
       "    }\n",
       "\n",
       "    .dataframe thead th {\n",
       "        text-align: right;\n",
       "    }\n",
       "</style>\n",
       "<table border=\"1\" class=\"dataframe\">\n",
       "  <thead>\n",
       "    <tr style=\"text-align: right;\">\n",
       "      <th></th>\n",
       "      <th>Id</th>\n",
       "      <th>year</th>\n",
       "      <th>bpm</th>\n",
       "      <th>nrgy</th>\n",
       "      <th>dnce</th>\n",
       "      <th>dB</th>\n",
       "      <th>live</th>\n",
       "      <th>val</th>\n",
       "      <th>dur</th>\n",
       "      <th>acous</th>\n",
       "      <th>spch</th>\n",
       "      <th>pop</th>\n",
       "    </tr>\n",
       "  </thead>\n",
       "  <tbody>\n",
       "    <tr>\n",
       "      <th>count</th>\n",
       "      <td>453.000000</td>\n",
       "      <td>453.000000</td>\n",
       "      <td>453.000000</td>\n",
       "      <td>453.000000</td>\n",
       "      <td>453.000000</td>\n",
       "      <td>453.000000</td>\n",
       "      <td>453.000000</td>\n",
       "      <td>453.000000</td>\n",
       "      <td>453.000000</td>\n",
       "      <td>453.000000</td>\n",
       "      <td>453.000000</td>\n",
       "      <td>453.000000</td>\n",
       "    </tr>\n",
       "    <tr>\n",
       "      <th>mean</th>\n",
       "      <td>227.000000</td>\n",
       "      <td>1991.443709</td>\n",
       "      <td>118.399558</td>\n",
       "      <td>60.070640</td>\n",
       "      <td>59.565121</td>\n",
       "      <td>-8.836645</td>\n",
       "      <td>17.757174</td>\n",
       "      <td>59.465784</td>\n",
       "      <td>226.278146</td>\n",
       "      <td>32.982340</td>\n",
       "      <td>5.660044</td>\n",
       "      <td>60.743929</td>\n",
       "    </tr>\n",
       "    <tr>\n",
       "      <th>std</th>\n",
       "      <td>130.914094</td>\n",
       "      <td>16.776103</td>\n",
       "      <td>25.238713</td>\n",
       "      <td>22.205284</td>\n",
       "      <td>15.484458</td>\n",
       "      <td>3.577187</td>\n",
       "      <td>13.830300</td>\n",
       "      <td>24.539868</td>\n",
       "      <td>63.770380</td>\n",
       "      <td>29.530015</td>\n",
       "      <td>5.550581</td>\n",
       "      <td>13.470083</td>\n",
       "    </tr>\n",
       "    <tr>\n",
       "      <th>min</th>\n",
       "      <td>1.000000</td>\n",
       "      <td>1948.000000</td>\n",
       "      <td>62.000000</td>\n",
       "      <td>7.000000</td>\n",
       "      <td>18.000000</td>\n",
       "      <td>-24.000000</td>\n",
       "      <td>2.000000</td>\n",
       "      <td>6.000000</td>\n",
       "      <td>98.000000</td>\n",
       "      <td>0.000000</td>\n",
       "      <td>2.000000</td>\n",
       "      <td>26.000000</td>\n",
       "    </tr>\n",
       "    <tr>\n",
       "      <th>25%</th>\n",
       "      <td>114.000000</td>\n",
       "      <td>1976.000000</td>\n",
       "      <td>100.000000</td>\n",
       "      <td>43.000000</td>\n",
       "      <td>49.000000</td>\n",
       "      <td>-11.000000</td>\n",
       "      <td>9.000000</td>\n",
       "      <td>42.000000</td>\n",
       "      <td>181.000000</td>\n",
       "      <td>7.000000</td>\n",
       "      <td>3.000000</td>\n",
       "      <td>53.000000</td>\n",
       "    </tr>\n",
       "    <tr>\n",
       "      <th>50%</th>\n",
       "      <td>227.000000</td>\n",
       "      <td>1994.000000</td>\n",
       "      <td>119.000000</td>\n",
       "      <td>63.000000</td>\n",
       "      <td>61.000000</td>\n",
       "      <td>-8.000000</td>\n",
       "      <td>13.000000</td>\n",
       "      <td>61.000000</td>\n",
       "      <td>223.000000</td>\n",
       "      <td>24.000000</td>\n",
       "      <td>4.000000</td>\n",
       "      <td>63.000000</td>\n",
       "    </tr>\n",
       "    <tr>\n",
       "      <th>75%</th>\n",
       "      <td>340.000000</td>\n",
       "      <td>2007.000000</td>\n",
       "      <td>133.000000</td>\n",
       "      <td>78.000000</td>\n",
       "      <td>70.000000</td>\n",
       "      <td>-6.000000</td>\n",
       "      <td>23.000000</td>\n",
       "      <td>80.000000</td>\n",
       "      <td>262.000000</td>\n",
       "      <td>58.000000</td>\n",
       "      <td>6.000000</td>\n",
       "      <td>71.000000</td>\n",
       "    </tr>\n",
       "    <tr>\n",
       "      <th>max</th>\n",
       "      <td>453.000000</td>\n",
       "      <td>2019.000000</td>\n",
       "      <td>199.000000</td>\n",
       "      <td>100.000000</td>\n",
       "      <td>96.000000</td>\n",
       "      <td>-1.000000</td>\n",
       "      <td>93.000000</td>\n",
       "      <td>99.000000</td>\n",
       "      <td>511.000000</td>\n",
       "      <td>100.000000</td>\n",
       "      <td>47.000000</td>\n",
       "      <td>84.000000</td>\n",
       "    </tr>\n",
       "  </tbody>\n",
       "</table>\n",
       "</div>"
      ],
      "text/plain": [
       "               Id         year         bpm        nrgy        dnce          dB        live         val         dur       acous        spch         pop\n",
       "count  453.000000   453.000000  453.000000  453.000000  453.000000  453.000000  453.000000  453.000000  453.000000  453.000000  453.000000  453.000000\n",
       "mean   227.000000  1991.443709  118.399558   60.070640   59.565121   -8.836645   17.757174   59.465784  226.278146   32.982340    5.660044   60.743929\n",
       "std    130.914094    16.776103   25.238713   22.205284   15.484458    3.577187   13.830300   24.539868   63.770380   29.530015    5.550581   13.470083\n",
       "min      1.000000  1948.000000   62.000000    7.000000   18.000000  -24.000000    2.000000    6.000000   98.000000    0.000000    2.000000   26.000000\n",
       "25%    114.000000  1976.000000  100.000000   43.000000   49.000000  -11.000000    9.000000   42.000000  181.000000    7.000000    3.000000   53.000000\n",
       "50%    227.000000  1994.000000  119.000000   63.000000   61.000000   -8.000000   13.000000   61.000000  223.000000   24.000000    4.000000   63.000000\n",
       "75%    340.000000  2007.000000  133.000000   78.000000   70.000000   -6.000000   23.000000   80.000000  262.000000   58.000000    6.000000   71.000000\n",
       "max    453.000000  2019.000000  199.000000  100.000000   96.000000   -1.000000   93.000000   99.000000  511.000000  100.000000   47.000000   84.000000"
      ]
     },
     "execution_count": 21,
     "metadata": {},
     "output_type": "execute_result"
    }
   ],
   "source": [
    "# describe the dataframe\n",
    "print('train data shape',trainData.shape)\n",
    "print('test data shape',testData.shape)\n",
    "trainData.describe()"
   ]
  },
  {
   "cell_type": "code",
   "execution_count": 36,
   "metadata": {},
   "outputs": [
    {
     "data": {
      "text/plain": [
       "Index(['top genre'], dtype='object')"
      ]
     },
     "execution_count": 36,
     "metadata": {},
     "output_type": "execute_result"
    }
   ],
   "source": [
    "trainData.columns[trainData.isnull().any()]"
   ]
  },
  {
   "cell_type": "code",
   "execution_count": 34,
   "metadata": {},
   "outputs": [
    {
     "name": "stdout",
     "output_type": "stream",
     "text": [
      "               Id         year         bpm        nrgy        dnce          dB        live         val         dur       acous        spch         pop\n",
      "count  438.000000   438.000000  438.000000  438.000000  438.000000  438.000000  438.000000  438.000000  438.000000  438.000000  438.000000  438.000000\n",
      "mean   227.600457  1990.881279  118.326484   60.504566   59.780822   -8.787671   17.605023   59.625571  228.267123   32.191781    5.671233   61.557078\n",
      "std    130.463047    16.697047   25.175735   22.089660   15.404757    3.591005   13.807492   24.480160   63.426812   29.279912    5.571392   12.759353\n",
      "min      1.000000  1948.000000   62.000000    7.000000   18.000000  -24.000000    2.000000    6.000000   98.000000    0.000000    2.000000   26.000000\n",
      "25%    116.250000  1976.000000  100.000000   44.000000   50.000000  -11.000000    9.000000   42.250000  184.500000    7.000000    3.000000   54.000000\n",
      "50%    226.500000  1993.000000  120.000000   64.000000   62.000000   -8.000000   13.000000   61.000000  224.000000   23.000000    4.000000   64.000000\n",
      "75%    340.750000  2006.000000  133.000000   78.000000   70.750000   -6.000000   23.000000   80.000000  264.000000   57.000000    6.000000   72.000000\n",
      "max    453.000000  2019.000000  199.000000  100.000000   96.000000   -1.000000   93.000000   99.000000  511.000000   99.000000   47.000000   84.000000\n"
     ]
    },
    {
     "data": {
      "text/plain": [
       "top genre\n",
       "adult standards            68\n",
       "album rock                 66\n",
       "dance pop                  61\n",
       "glam rock                  16\n",
       "brill building pop         16\n",
       "europop                    14\n",
       "dance rock                 13\n",
       "boy band                   10\n",
       "british invasion            8\n",
       "bubblegum dance             7\n",
       "art rock                    7\n",
       "disco                       7\n",
       "eurodance                   6\n",
       "deep adult standards        6\n",
       "atl hip hop                 6\n",
       "barbadian pop               6\n",
       "pop                         5\n",
       "british soul                5\n",
       "soft rock                   5\n",
       "classic soul                5\n",
       "doo-wop                     4\n",
       "classic uk pop              4\n",
       "east coast hip hop          4\n",
       "g funk                      3\n",
       "new wave pop                3\n",
       "disco house                 3\n",
       "canadian pop                2\n",
       "glam metal                  2\n",
       "detroit hip hop             2\n",
       "celtic rock                 2\n",
       "chanson                     2\n",
       "chicago rap                 2\n",
       "country rock                2\n",
       "classic rock                2\n",
       "chicago soul                2\n",
       "big room                    2\n",
       "bebop                       2\n",
       "british folk                2\n",
       "hip hop                     2\n",
       "alternative metal           2\n",
       "art pop                     2\n",
       "permanent wave              2\n",
       "blues rock                  2\n",
       "bronx hip hop               2\n",
       "belgian pop                 2\n",
       "merseybeat                  2\n",
       "uk garage                   1\n",
       "rock-and-roll               1\n",
       "r&b                         1\n",
       "neo mellow                  1\n",
       "glam punk                   1\n",
       "mellow gold                 1\n",
       "german alternative rock     1\n",
       "louisiana blues             1\n",
       "latin                       1\n",
       "italian pop                 1\n",
       "hip pop                     1\n",
       "german dance                1\n",
       "hi-nrg                      1\n",
       "acoustic blues              1\n",
       "drone folk                  1\n",
       "deep house                  1\n",
       "afrobeat                    1\n",
       "afropop                     1\n",
       "alternative rock            1\n",
       "american folk revival       1\n",
       "australian rock             1\n",
       "australian talent show      1\n",
       "avant-garde jazz            1\n",
       "baroque pop                 1\n",
       "belgian dance               1\n",
       "blues                       1\n",
       "boogaloo                    1\n",
       "bow pop                     1\n",
       "brit funk                   1\n",
       "british blues               1\n",
       "british comedy              1\n",
       "british dance band          1\n",
       "britpop                     1\n",
       "bubble trance               1\n",
       "bubblegum pop               1\n",
       "canadian folk               1\n",
       "classic danish pop          1\n",
       "classic girl group          1\n",
       "country                     1\n",
       "yodeling                    1\n",
       "dtype: int64"
      ]
     },
     "execution_count": 34,
     "metadata": {},
     "output_type": "execute_result"
    }
   ],
   "source": [
    "# filter out the NaN rows \n",
    "# 1) deep copy the list of each decade\n",
    "# 2) run drop if empty found\n",
    "# 3) \n",
    "\n",
    "\n",
    "if not (trainData.columns[trainData.isnull().any()].isnull()):\n",
    "    trainDataClean = trainData.drop(trainData[trainData['top genre'].isnull()].index)\n",
    "testDataClean = testData.copy()\n",
    "print (trainDataClean.describe())\n",
    "\n",
    "trainDataClean.groupby('top genre').size().sort_values(ascending=False)"
   ]
  },
  {
   "cell_type": "code",
   "execution_count": null,
   "metadata": {},
   "outputs": [],
   "source": [
    "trainData.bpm.describe(include='all')"
   ]
  },
  {
   "cell_type": "code",
   "execution_count": null,
   "metadata": {},
   "outputs": [
    {
     "ename": "NameError",
     "evalue": "name 'trainDataClean' is not defined",
     "output_type": "error",
     "traceback": [
      "\u001b[0;31m---------------------------------------------------------------------------\u001b[0m",
      "\u001b[0;31mNameError\u001b[0m                                 Traceback (most recent call last)",
      "Cell \u001b[0;32mIn [6], line 9\u001b[0m\n\u001b[1;32m      6\u001b[0m     trainDataClean \u001b[38;5;241m=\u001b[39m trainData\u001b[38;5;241m.\u001b[39mdrop(trainData[trainData[\u001b[38;5;124m'\u001b[39m\u001b[38;5;124mtop genre\u001b[39m\u001b[38;5;124m'\u001b[39m]\u001b[38;5;241m.\u001b[39misnull()]\u001b[38;5;241m.\u001b[39mindex)\n\u001b[1;32m      7\u001b[0m testDataClean \u001b[38;5;241m=\u001b[39m testData\u001b[38;5;241m.\u001b[39mcopy()\n\u001b[0;32m----> 9\u001b[0m \u001b[38;5;28mprint\u001b[39m(\u001b[38;5;124m'\u001b[39m\u001b[38;5;124mtrain:\u001b[39m\u001b[38;5;124m'\u001b[39m,trainDataClean\u001b[38;5;241m.\u001b[39mcolumns\u001b[38;5;241m.\u001b[39mvalues)\n\u001b[1;32m     10\u001b[0m \u001b[38;5;28mprint\u001b[39m(\u001b[38;5;124m'\u001b[39m\u001b[38;5;124mtest:\u001b[39m\u001b[38;5;124m'\u001b[39m,testDataClean\u001b[38;5;241m.\u001b[39mcolumns\u001b[38;5;241m.\u001b[39mvalues)\n\u001b[1;32m     12\u001b[0m trainDataClean\u001b[38;5;241m.\u001b[39mgroupby(\u001b[38;5;124m'\u001b[39m\u001b[38;5;124mtop genre\u001b[39m\u001b[38;5;124m'\u001b[39m)\u001b[38;5;241m.\u001b[39msize()\u001b[38;5;241m.\u001b[39msort_values(ascending\u001b[38;5;241m=\u001b[39m\u001b[38;5;28;01mFalse\u001b[39;00m)\n",
      "\u001b[0;31mNameError\u001b[0m: name 'trainDataClean' is not defined"
     ]
    }
   ],
   "source": []
  },
  {
   "cell_type": "code",
   "execution_count": null,
   "metadata": {},
   "outputs": [
    {
     "name": "stdout",
     "output_type": "stream",
     "text": [
      "no of type: 86\n"
     ]
    }
   ],
   "source": [
    "\n",
    "print(\"no of type:\",trainDataClean.groupby('top genre').size().count())"
   ]
  },
  {
   "cell_type": "code",
   "execution_count": 25,
   "metadata": {},
   "outputs": [
    {
     "ename": "NameError",
     "evalue": "name 'trainDataClean' is not defined",
     "output_type": "error",
     "traceback": [
      "\u001b[0;31m---------------------------------------------------------------------------\u001b[0m",
      "\u001b[0;31mNameError\u001b[0m                                 Traceback (most recent call last)",
      "Cell \u001b[0;32mIn [25], line 3\u001b[0m\n\u001b[1;32m      1\u001b[0m \u001b[38;5;66;03m# number only list - remove title, artist\u001b[39;00m\n\u001b[0;32m----> 3\u001b[0m y \u001b[38;5;241m=\u001b[39m trainDataClean[\u001b[38;5;124m\"\u001b[39m\u001b[38;5;124mtop genre\u001b[39m\u001b[38;5;124m\"\u001b[39m]\n\u001b[1;32m      4\u001b[0m x \u001b[38;5;241m=\u001b[39m trainDataClean\u001b[38;5;241m.\u001b[39mdrop(columns\u001b[38;5;241m=\u001b[39m[\u001b[38;5;124m\"\u001b[39m\u001b[38;5;124mtop genre\u001b[39m\u001b[38;5;124m\"\u001b[39m,\u001b[38;5;124m\"\u001b[39m\u001b[38;5;124mId\u001b[39m\u001b[38;5;124m\"\u001b[39m,\u001b[38;5;124m\"\u001b[39m\u001b[38;5;124martist\u001b[39m\u001b[38;5;124m\"\u001b[39m,\u001b[38;5;124m\"\u001b[39m\u001b[38;5;124mtitle\u001b[39m\u001b[38;5;124m\"\u001b[39m,\u001b[38;5;124m\"\u001b[39m\u001b[38;5;124myear\u001b[39m\u001b[38;5;124m\"\u001b[39m])\n\u001b[1;32m      6\u001b[0m \u001b[38;5;28mprint\u001b[39m(x\u001b[38;5;241m.\u001b[39mdescribe())\n",
      "\u001b[0;31mNameError\u001b[0m: name 'trainDataClean' is not defined"
     ]
    }
   ],
   "source": [
    "# number only list - remove title, artist\n",
    "\n",
    "y = trainDataClean[\"top genre\"]\n",
    "x = trainDataClean.drop(columns=[\"top genre\",\"Id\",\"artist\",\"title\",\"year\"])\n",
    "\n",
    "\n",
    "stdScaler = StandardScaler()\n",
    "xScaled = stdScaler.fit_transform(x)\n",
    "\n",
    "# Encode y\n",
    "encoder = LabelEncoder()\n",
    "encoder.fit(y)\n",
    "yEncoded = encoder.transform(y)\n"
   ]
  },
  {
   "cell_type": "code",
   "execution_count": null,
   "metadata": {},
   "outputs": [],
   "source": [
    "# check duoplicate\n",
    "# null value\n",
    "# describe \n",
    "# descitbe incldue =all (all attr)\n",
    "#ß"
   ]
  },
  {
   "cell_type": "code",
   "execution_count": null,
   "metadata": {},
   "outputs": [
    {
     "data": {
      "text/plain": [
       "11.394268616215564"
      ]
     },
     "execution_count": 73,
     "metadata": {},
     "output_type": "execute_result"
    }
   ],
   "source": [
    "from sklearn.tree import DecisionTreeRegressor\n",
    "bXtrain, bXtest, bytrain, bytest = train_test_split(xScaled, yEncoded, test_size=0.3, random_state=28)\n",
    "tree_reg = DecisionTreeRegressor(min_samples_leaf=3) # explore min_samples = e.g. put to 1 to see what happens\n",
    "tree_reg.fit(bXtrain,bytrain)\n",
    "boston_tree_train_preds = tree_reg.predict(bXtrain) # Check fit\n",
    "lin_mse = mean_squared_error(bytrain, boston_tree_train_preds)\n",
    "lin_rmse = np.sqrt(lin_mse)\n",
    "lin_rmse"
   ]
  },
  {
   "cell_type": "code",
   "execution_count": null,
   "metadata": {},
   "outputs": [],
   "source": []
  }
 ],
 "metadata": {
  "kernelspec": {
   "display_name": "Python 3.10.6 64-bit",
   "language": "python",
   "name": "python3"
  },
  "language_info": {
   "codemirror_mode": {
    "name": "ipython",
    "version": 3
   },
   "file_extension": ".py",
   "mimetype": "text/x-python",
   "name": "python",
   "nbconvert_exporter": "python",
   "pygments_lexer": "ipython3",
   "version": "3.10.6"
  },
  "orig_nbformat": 4,
  "vscode": {
   "interpreter": {
    "hash": "aee8b7b246df8f9039afb4144a1f6fd8d2ca17a180786b69acc140d282b71a49"
   }
  }
 },
 "nbformat": 4,
 "nbformat_minor": 2
}
